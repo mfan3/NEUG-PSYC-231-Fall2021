{
 "cells": [
  {
   "cell_type": "code",
   "execution_count": 2,
   "metadata": {},
   "outputs": [],
   "source": [
    "import numpy as np\n",
    "from scipy import stats\n",
    "import matplotlib.pyplot as plt"
   ]
  },
  {
   "cell_type": "code",
   "execution_count": 21,
   "metadata": {},
   "outputs": [
    {
     "data": {
      "image/png": "[encoded data removed]",
      "text/plain": [
       "<Figure size 432x288 with 1 Axes>"
      ]
     },
     "metadata": {
      "needs_background": "light"
     },
     "output_type": "display_data"
    },
    {
     "name": "stdout",
     "output_type": "stream",
     "text": [
      "2.030322987079577\n",
      "0.04500575023448435\n"
     ]
    }
   ],
   "source": [
    "# generating data for example\n",
    "np.random.seed(0)\n",
    "N = 100\n",
    "# generating means for conditions\n",
    "cond_mu = 1.3, 1\n",
    "cond_std = 1, 1\n",
    "\n",
    "d1 = (np.random.randn(N)* cond_std[0]) + cond_mu[0]\n",
    "d2 = (np.random.randn(N)* cond_std[1]) + cond_mu[1]\n",
    "\n",
    "# histograms to visualize the data \n",
    "plt.hist(d1, color = 'r', alpha = .5)\n",
    "plt.hist(d2, color = 'b', alpha = .25)\n",
    "plt.xlabel(\"data values\")\n",
    "plt.ylabel(\"count\")\n",
    "plt.show()\n",
    "\n",
    "t_stats = stats.ttest_1samp(d1-d2, 0)\n",
    "\n",
    "parametric_t = t_stats.statistic\n",
    "parametric_p = t_stats.pvalue\n",
    "\n",
    "print(parametric_t)\n",
    "print(parametric_p)"
   ]
  },
  {
   "cell_type": "code",
   "execution_count": null,
   "metadata": {},
   "outputs": [],
   "source": []
  },
  {
   "cell_type": "code",
   "execution_count": 24,
   "metadata": {},
   "outputs": [
    {
     "data": {
      "image/png": "[encoded data removed]",
      "text/plain": [
       "<Figure size 432x288 with 1 Axes>"
      ]
     },
     "metadata": {
      "needs_background": "light"
     },
     "output_type": "display_data"
    },
    {
     "name": "stdout",
     "output_type": "stream",
     "text": [
      "0.09660000000000002\n"
     ]
    }
   ],
   "source": [
    "# randomization \n",
    "np.random.seed(0)\n",
    "num_rands = 10000\n",
    "\n",
    "# this will store the emipirical distribution of t-values\n",
    "null_t = np.zeros(num_rands)\n",
    "\n",
    "for i in np.arange(num_rands):\n",
    "    rand_data = np.sign(np.random.randn(N) - .5) * (d1 - d2)\n",
    "    \n",
    "    null_t[i] = stats.ttest_1samp(rand_data, 0)[0]\n",
    "    \n",
    "plt.hist(null_t, color = 'r', bins = 30)\n",
    "plt.xlabel('t-value')\n",
    "plt.ylabel('count')\n",
    "plt.show()\n",
    "\n",
    "# actually compute p-value \n",
    "rand_p = (1-(np.sum(parametric_t > np.abs(null_t))/num_rands))\n",
    "print(rand_p)"
   ]
  },
  {
   "cell_type": "code",
   "execution_count": 30,
   "metadata": {},
   "outputs": [
    {
     "name": "stdout",
     "output_type": "stream",
     "text": [
      "0.81642051634484 0.0021696288730787875\n"
     ]
    },
    {
     "data": {
      "image/png": "[encoded data removed]",
      "text/plain": [
       "<Figure size 432x288 with 1 Axes>"
      ]
     },
     "metadata": {
      "needs_background": "light"
     },
     "output_type": "display_data"
    }
   ],
   "source": [
    "d1 = np.array([10, 8, 13, 9, 11, 14, 6, 4, 12, 7, 5])\n",
    "d2 = np.array([8.04, 6.95, 7.58, 8.81, 8.33, 9.96, 7.24, 4.26, 10.84, 4.82, 5.68])\n",
    "\n",
    "N = len(d1)\n",
    "\n",
    "para_r, para_p, = stats.pearsonr(d1, d2)\n",
    "\n",
    "print(para_r, para_p)\n",
    "\n",
    "plt.scatter(d1, d2, color = 'k')\n",
    "plt.show()\n"
   ]
  },
  {
   "cell_type": "code",
   "execution_count": 3,
   "metadata": {},
   "outputs": [
    {
     "ename": "NameError",
     "evalue": "name 'N' is not defined",
     "output_type": "error",
     "traceback": [
      "\u001b[0;31m---------------------------------------------------------------------------\u001b[0m",
      "\u001b[0;31mNameError\u001b[0m                                 Traceback (most recent call last)",
      "\u001b[0;32m<ipython-input-3-80228818623d>\u001b[0m in \u001b[0;36m<module>\u001b[0;34m\u001b[0m\n\u001b[1;32m      5\u001b[0m \u001b[0mnull_r\u001b[0m \u001b[0;34m=\u001b[0m \u001b[0mnp\u001b[0m\u001b[0;34m.\u001b[0m\u001b[0mzeros\u001b[0m\u001b[0;34m(\u001b[0m\u001b[0mnum_rands\u001b[0m\u001b[0;34m)\u001b[0m\u001b[0;34m\u001b[0m\u001b[0;34m\u001b[0m\u001b[0m\n\u001b[1;32m      6\u001b[0m \u001b[0;34m\u001b[0m\u001b[0m\n\u001b[0;32m----> 7\u001b[0;31m \u001b[0mtmp0\u001b[0m \u001b[0;34m=\u001b[0m \u001b[0mnp\u001b[0m\u001b[0;34m.\u001b[0m\u001b[0mzeros\u001b[0m\u001b[0;34m(\u001b[0m\u001b[0mN\u001b[0m\u001b[0;34m)\u001b[0m\u001b[0;34m\u001b[0m\u001b[0;34m\u001b[0m\u001b[0m\n\u001b[0m\u001b[1;32m      8\u001b[0m \u001b[0mtmp1\u001b[0m \u001b[0;34m=\u001b[0m \u001b[0mnp\u001b[0m\u001b[0;34m.\u001b[0m\u001b[0mzeros\u001b[0m\u001b[0;34m(\u001b[0m\u001b[0mN\u001b[0m\u001b[0;34m)\u001b[0m\u001b[0;34m\u001b[0m\u001b[0;34m\u001b[0m\u001b[0m\n\u001b[1;32m      9\u001b[0m \u001b[0;34m\u001b[0m\u001b[0m\n",
      "\u001b[0;31mNameError\u001b[0m: name 'N' is not defined"
     ]
    }
   ],
   "source": [
    "np.random.seed(1)\n",
    "\n",
    "num_rands = 5000\n",
    "\n",
    "null_r = np.zeros(num_rands)\n",
    "\n",
    "tmp0 = np.zeros(N)\n",
    "tmp1 = np.zeros(N)\n",
    "\n",
    "for i in np.arange(num_rands): \n",
    "    for j in np.arange(N): \n",
    "        if np.random.rand() < .5:\n",
    "            tmp0[j] = d1[j]\n",
    "            tmp1[j] = d2[j]\n",
    "        else: \n",
    "            tmp0[j] = d2[j]\n",
    "            tmp1[j] = d1[j]\n",
    "            \n",
    "    null_r[i], _= stats.pearsonr(tmp0, tmp1)\n",
    "\n",
    "null_p = 2 * (np.sum(null_r>para_r)/num_rands)\n",
    "\n",
    "print(null_p)"
   ]
  },
  {
   "cell_type": "code",
   "execution_count": 69,
   "metadata": {},
   "outputs": [
    {
     "ename": "TypeError",
     "evalue": "permutation() takes exactly one argument (0 given)",
     "output_type": "error",
     "traceback": [
      "\u001b[0;31m---------------------------------------------------------------------------\u001b[0m",
      "\u001b[0;31mTypeError\u001b[0m                                 Traceback (most recent call last)",
      "\u001b[0;32m<ipython-input-69-fd73f993cf41>\u001b[0m in \u001b[0;36m<module>\u001b[0;34m\u001b[0m\n\u001b[1;32m     10\u001b[0m \u001b[0mS_N\u001b[0m \u001b[0;34m=\u001b[0m \u001b[0;36m1000000\u001b[0m\u001b[0;34m\u001b[0m\u001b[0;34m\u001b[0m\u001b[0m\n\u001b[1;32m     11\u001b[0m \u001b[0;34m\u001b[0m\u001b[0m\n\u001b[0;32m---> 12\u001b[0;31m \u001b[0mindex\u001b[0m \u001b[0;34m=\u001b[0m \u001b[0mnp\u001b[0m\u001b[0;34m.\u001b[0m\u001b[0mrandom\u001b[0m\u001b[0;34m.\u001b[0m\u001b[0mpermutation\u001b[0m\u001b[0;34m(\u001b[0m\u001b[0;34m)\u001b[0m\u001b[0;34m[\u001b[0m\u001b[0;36m0\u001b[0m\u001b[0;34m:\u001b[0m\u001b[0mS_N\u001b[0m\u001b[0;34m]\u001b[0m\u001b[0;34m\u001b[0m\u001b[0;34m\u001b[0m\u001b[0m\n\u001b[0m\u001b[1;32m     13\u001b[0m \u001b[0;34m\u001b[0m\u001b[0m\n\u001b[1;32m     14\u001b[0m \u001b[0msamp_data\u001b[0m \u001b[0;34m=\u001b[0m \u001b[0mpop_data\u001b[0m\u001b[0;34m[\u001b[0m\u001b[0mindex\u001b[0m\u001b[0;34m]\u001b[0m\u001b[0;34m\u001b[0m\u001b[0;34m\u001b[0m\u001b[0m\n",
      "\u001b[0;31mTypeError\u001b[0m: permutation() takes exactly one argument (0 given)"
     ]
    }
   ],
   "source": [
    "np.random.seed(0)\n",
    "\n",
    "N = 1000000\n",
    "\n",
    "pop_mean = 100\n",
    "pop_std = 10\n",
    "\n",
    "pop_data = np.random.randn(N) * pop_std - pop_mean\n",
    "\n",
    "S_N = 1000000\n",
    "\n",
    "index = np.random.permutation()[0:S_N]\n",
    "\n",
    "samp_data = pop_data[index]\n",
    "\n",
    "print(np.mean([pop_data]))\n",
    "print(np.std([pop_data]))\n",
    "print(np.mean([samp_data]))\n",
    "print(np.std([samp_data]))"
   ]
  },
  {
   "cell_type": "code",
   "execution_count": 70,
   "metadata": {},
   "outputs": [
    {
     "data": {
      "image/png": "[encoded data removed]",
      "text/plain": [
       "<Figure size 432x288 with 1 Axes>"
      ]
     },
     "metadata": {
      "needs_background": "light"
     },
     "output_type": "display_data"
    }
   ],
   "source": [
    "S_N = 20\n",
    "index = np.random.permutation(N)[0:S_N]\n",
    "\n",
    "samp_data = pop_data[index]\n",
    "\n",
    "num_boots = 5000\n",
    "\n",
    "boot_mean = np.zeros(num_boots)\n",
    "for i in np.arange(num_boots): \n",
    "    boot_data = samp_data[np.random.randint(S_N, size = S_N)]\n",
    "    \n",
    "    boot_mean[i] = np.mean(boot_data)\n",
    "\n",
    "CIs = np.percentile(boot_mean, [2.5, 97.5])\n",
    "\n",
    "plt.hist(boot_mean, color = 'r')\n",
    "plt.axvline(-pop_mean, color = 'k')\n",
    "plt.axvline(CIs[0], color = 'b')\n",
    "plt.axvline(CIs[1], color = 'b')\n",
    "plt.show()\n"
   ]
  },
  {
   "cell_type": "code",
   "execution_count": 63,
   "metadata": {},
   "outputs": [
    {
     "data": {
      "text/plain": [
       "array([-100.49285641,  -99.63188939])"
      ]
     },
     "execution_count": 63,
     "metadata": {},
     "output_type": "execute_result"
    }
   ],
   "source": [
    "CIs"
   ]
  },
  {
   "cell_type": "code",
   "execution_count": 58,
   "metadata": {},
   "outputs": [
    {
     "name": "stdout",
     "output_type": "stream",
     "text": [
      "[ 1 11  4 18 17  8 11  0 15  1 11 10  6  3 14 16  4  5 11  4]\n"
     ]
    }
   ],
   "source": [
    "print(np.random.randint(S_N, size = S_N))"
   ]
  },
  {
   "cell_type": "code",
   "execution_count": null,
   "metadata": {},
   "outputs": [],
   "source": []
  },
  {
   "cell_type": "code",
   "execution_count": 72,
   "metadata": {},
   "outputs": [
    {
     "data": {
      "image/png": "[encoded data removed]",
      "text/plain": [
       "<Figure size 432x288 with 1 Axes>"
      ]
     },
     "metadata": {
      "needs_background": "light"
     },
     "output_type": "display_data"
    }
   ],
   "source": [
    "np.random.seed(0)\n",
    "\n",
    "N=16\n",
    "\n",
    "d1 = np.random.randn(N)\n",
    "d2 = np.random.randn(N)\n",
    "\n",
    "d1[-1] = 20\n",
    "d2[-2] = 15\n",
    "\n",
    "plt.scatter(d1, d2, color = 'r')\n",
    "plt.show()"
   ]
  },
  {
   "cell_type": "code",
   "execution_count": null,
   "metadata": {},
   "outputs": [],
   "source": []
  },
  {
   "cell_type": "code",
   "execution_count": 77,
   "metadata": {},
   "outputs": [
    {
     "data": {
      "image/png": "[encoded data removed]",
      "text/plain": [
       "<Figure size 432x288 with 1 Axes>"
      ]
     },
     "metadata": {
      "needs_background": "light"
     },
     "output_type": "display_data"
    }
   ],
   "source": [
    "num_boots = 10000\n",
    "\n",
    "corr = np.zeros(num_boots)\n",
    "p = np.zeros(num_boots)\n",
    "\n",
    "for i in np.arange(num_boots):\n",
    "    index = np.random.randint(N, size = N)\n",
    "    \n",
    "    tmp1 = d1[index]\n",
    "    tmp2 = d2[index]\n",
    "    \n",
    "    corr[i], _ = stats.pearsonr(tmp1, tmp2)\n",
    "\n",
    "CIs = np.percentile(corr, [2.5, 97.5])\n",
    "\n",
    "plt.hist(corr, color = 'r')\n",
    "plt.axvline(para_r, color = 'g')\n",
    "plt.axvline(CIs[0], color = 'k')\n",
    "plt.axvline(CIs[1], color = 'k')\n",
    "plt.show()\n"
   ]
  },
  {
   "cell_type": "code",
   "execution_count": null,
   "metadata": {},
   "outputs": [],
   "source": []
  },
  {
   "cell_type": "code",
   "execution_count": null,
   "metadata": {},
   "outputs": [],
   "source": []
  }
 ],
 "metadata": {
  "kernelspec": {
   "display_name": "Python 3",
   "language": "python",
   "name": "python3"
  },
  "language_info": {
   "codemirror_mode": {
    "name": "ipython",
    "version": 3
   },
   "file_extension": ".py",
   "mimetype": "text/x-python",
   "name": "python",
   "nbconvert_exporter": "python",
   "pygments_lexer": "ipython3",
   "version": "3.8.3"
  }
 },
 "nbformat": 4,
 "nbformat_minor": 4
}
