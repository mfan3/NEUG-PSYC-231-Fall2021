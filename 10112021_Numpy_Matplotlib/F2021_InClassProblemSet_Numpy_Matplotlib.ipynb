{
 "cells": [
  {
   "cell_type": "code",
   "execution_count": 1,
   "metadata": {},
   "outputs": [],
   "source": [
    "import numpy as np\n",
    "import matplotlib.pyplot as plt"
   ]
  },
  {
   "cell_type": "markdown",
   "metadata": {},
   "source": [
    "### 1) Make an array of the first 12 even numbers with shape (2, 6). Print the resulting array following each step below. Use np.arange to make the sequence...\n",
    "\n",
    "* Make every other value of the second row odd by subtracting 1 from it.\n",
    "* Reverse the entries (columns) in the first row.\n",
    "* Make the last value of the entire array the sum of all the other numbers beside the last value.\n",
    "* Normalize the first row to have unit area (area of 1) by dividing by the sum of the first row and then overwriting the original contents of the first row with the normalized values. \n",
    "    * Did it work? or did you get a row of 0's after you normalized?\n",
    "    * If you got a row of zeros, how would you change your original input parameters to np.arange to make it work? think about data types..."
   ]
  },
  {
   "cell_type": "code",
   "execution_count": 75,
   "metadata": {},
   "outputs": [
    {
     "name": "stdout",
     "output_type": "stream",
     "text": [
      "[ 2.  4.  6.  8. 10. 12. 14. 16. 18. 20. 22. 24.]\n",
      "[[ 2.  4.  6.  8. 10. 12.]\n",
      " [14. 16. 18. 20. 22. 24.]]\n",
      "[[12. 10.  8.  6.  4.  2.]\n",
      " [14. 16. 18. 20. 22. 24.]]\n",
      "[[ 12.  10.   8.   6.   4.   2.]\n",
      " [ 14.  16.  18.  20.  22. 132.]]\n",
      "42.0\n",
      "[[2.85714286e-01 2.38095238e-01 1.90476190e-01 1.42857143e-01\n",
      "  9.52380952e-02 4.76190476e-02]\n",
      " [1.40000000e+01 1.60000000e+01 1.80000000e+01 2.00000000e+01\n",
      "  2.20000000e+01 1.32000000e+02]]\n"
     ]
    }
   ],
   "source": [
    "arr1 = np.arange(2, 25, 2, dtype = float)\n",
    "print(arr1)\n",
    "# a\n",
    "arr1_a = arr1.reshape(2,6)\n",
    "print(arr1_a)\n",
    "# b\n",
    "arr1_b = arr1_a\n",
    "arr1_b[0, :] = arr1_b[0,::-1]\n",
    "print(arr1_b)\n",
    "# c\n",
    "arr1_c = arr1_b\n",
    "arr1_c[1,5] = arr1_c.sum()-arr1_c[1,5]\n",
    "print(arr1_c)\n",
    "# d\n",
    "arr1_sum = np.sum(arr1_c, axis = 1)\n",
    "print(arr1_sum[0])\n",
    "arr1_d = arr1_c\n",
    "arr1_d[0] = arr1_d[0]/arr1_sum[0]\n",
    "print(arr1_d)"
   ]
  },
  {
   "cell_type": "code",
   "execution_count": 74,
   "metadata": {},
   "outputs": [
    {
     "name": "stdout",
     "output_type": "stream",
     "text": [
      "[[ 2  4  6  8 10 12]\n",
      " [14 16 18 20 22 24]]\n"
     ]
    }
   ],
   "source": [
    "# answers\n",
    "N = 12\n",
    "even = np.arange(0, N*2, 2).reshape(2,int(N/2)) + 2\n",
    "print(even)"
   ]
  },
  {
   "cell_type": "markdown",
   "metadata": {},
   "source": [
    " ### 2) Create a two-dimensional array called *pts* (common abbreviation of **points**), where the first columns contains 100 values of x linearly spaced from -5 to 5 and the second column contains the values for y = 0.5x - 1.\n",
    " \n",
    " * Print the shape of *pts* to ensure you have created the array correctly.\n",
    "     * Hint: first make x using linspace\n",
    "     * Then make y using the given equation\n",
    "     * Then google 'numpy column_stack' to concatenate x and y and assign to pnts\n",
    "     * Last check to make sure that pnts is a 100 x 2 matrix (100 rows and 2 columns) \n",
    " * Introduce uniformly distribution noise from (-1, 3) into the y values of the *pts*.\n",
    " * Ensure that the noise you introduced was distributed as you intended by plotting a histogram of the values you used for the noise (it should look roughly uniform). Search \"matplotlib hist\" to figure out how to make a histogram plot. \n",
    " * Create a scatter plot using the first and second columns of the *pts* array as x and y, respectively. \n",
    " * Now plot the line y = 0.5x - 1 on top of the scatter plot. \n",
    " * Even though the line you plotted uses the same equation as the data you generated in pts, it does not appear to be the best fit to the points. Why is this? "
   ]
  },
  {
   "cell_type": "code",
   "execution_count": 77,
   "metadata": {},
   "outputs": [
    {
     "name": "stdout",
     "output_type": "stream",
     "text": [
      "[[-5.         -3.5       ]\n",
      " [-4.8989899  -3.44949495]\n",
      " [-4.7979798  -3.3989899 ]\n",
      " [-4.6969697  -3.34848485]\n",
      " [-4.5959596  -3.2979798 ]\n",
      " [-4.49494949 -3.24747475]\n",
      " [-4.39393939 -3.1969697 ]\n",
      " [-4.29292929 -3.14646465]\n",
      " [-4.19191919 -3.0959596 ]\n",
      " [-4.09090909 -3.04545455]\n",
      " [-3.98989899 -2.99494949]\n",
      " [-3.88888889 -2.94444444]\n",
      " [-3.78787879 -2.89393939]\n",
      " [-3.68686869 -2.84343434]\n",
      " [-3.58585859 -2.79292929]\n",
      " [-3.48484848 -2.74242424]\n",
      " [-3.38383838 -2.69191919]\n",
      " [-3.28282828 -2.64141414]\n",
      " [-3.18181818 -2.59090909]\n",
      " [-3.08080808 -2.54040404]\n",
      " [-2.97979798 -2.48989899]\n",
      " [-2.87878788 -2.43939394]\n",
      " [-2.77777778 -2.38888889]\n",
      " [-2.67676768 -2.33838384]\n",
      " [-2.57575758 -2.28787879]\n",
      " [-2.47474747 -2.23737374]\n",
      " [-2.37373737 -2.18686869]\n",
      " [-2.27272727 -2.13636364]\n",
      " [-2.17171717 -2.08585859]\n",
      " [-2.07070707 -2.03535354]\n",
      " [-1.96969697 -1.98484848]\n",
      " [-1.86868687 -1.93434343]\n",
      " [-1.76767677 -1.88383838]\n",
      " [-1.66666667 -1.83333333]\n",
      " [-1.56565657 -1.78282828]\n",
      " [-1.46464646 -1.73232323]\n",
      " [-1.36363636 -1.68181818]\n",
      " [-1.26262626 -1.63131313]\n",
      " [-1.16161616 -1.58080808]\n",
      " [-1.06060606 -1.53030303]\n",
      " [-0.95959596 -1.47979798]\n",
      " [-0.85858586 -1.42929293]\n",
      " [-0.75757576 -1.37878788]\n",
      " [-0.65656566 -1.32828283]\n",
      " [-0.55555556 -1.27777778]\n",
      " [-0.45454545 -1.22727273]\n",
      " [-0.35353535 -1.17676768]\n",
      " [-0.25252525 -1.12626263]\n",
      " [-0.15151515 -1.07575758]\n",
      " [-0.05050505 -1.02525253]\n",
      " [ 0.05050505 -0.97474747]\n",
      " [ 0.15151515 -0.92424242]\n",
      " [ 0.25252525 -0.87373737]\n",
      " [ 0.35353535 -0.82323232]\n",
      " [ 0.45454545 -0.77272727]\n",
      " [ 0.55555556 -0.72222222]\n",
      " [ 0.65656566 -0.67171717]\n",
      " [ 0.75757576 -0.62121212]\n",
      " [ 0.85858586 -0.57070707]\n",
      " [ 0.95959596 -0.52020202]\n",
      " [ 1.06060606 -0.46969697]\n",
      " [ 1.16161616 -0.41919192]\n",
      " [ 1.26262626 -0.36868687]\n",
      " [ 1.36363636 -0.31818182]\n",
      " [ 1.46464646 -0.26767677]\n",
      " [ 1.56565657 -0.21717172]\n",
      " [ 1.66666667 -0.16666667]\n",
      " [ 1.76767677 -0.11616162]\n",
      " [ 1.86868687 -0.06565657]\n",
      " [ 1.96969697 -0.01515152]\n",
      " [ 2.07070707  0.03535354]\n",
      " [ 2.17171717  0.08585859]\n",
      " [ 2.27272727  0.13636364]\n",
      " [ 2.37373737  0.18686869]\n",
      " [ 2.47474747  0.23737374]\n",
      " [ 2.57575758  0.28787879]\n",
      " [ 2.67676768  0.33838384]\n",
      " [ 2.77777778  0.38888889]\n",
      " [ 2.87878788  0.43939394]\n",
      " [ 2.97979798  0.48989899]\n",
      " [ 3.08080808  0.54040404]\n",
      " [ 3.18181818  0.59090909]\n",
      " [ 3.28282828  0.64141414]\n",
      " [ 3.38383838  0.69191919]\n",
      " [ 3.48484848  0.74242424]\n",
      " [ 3.58585859  0.79292929]\n",
      " [ 3.68686869  0.84343434]\n",
      " [ 3.78787879  0.89393939]\n",
      " [ 3.88888889  0.94444444]\n",
      " [ 3.98989899  0.99494949]\n",
      " [ 4.09090909  1.04545455]\n",
      " [ 4.19191919  1.0959596 ]\n",
      " [ 4.29292929  1.14646465]\n",
      " [ 4.39393939  1.1969697 ]\n",
      " [ 4.49494949  1.24747475]\n",
      " [ 4.5959596   1.2979798 ]\n",
      " [ 4.6969697   1.34848485]\n",
      " [ 4.7979798   1.3989899 ]\n",
      " [ 4.8989899   1.44949495]\n",
      " [ 5.          1.5       ]]\n",
      "\n",
      "\n",
      "\n",
      "\n"
     ]
    },
    {
     "data": {
      "image/png": "[encoded data removed]",
      "text/plain": [
       "<Figure size 432x288 with 1 Axes>"
      ]
     },
     "metadata": {
      "needs_background": "light"
     },
     "output_type": "display_data"
    },
    {
     "name": "stdout",
     "output_type": "stream",
     "text": [
      "\n",
      "\n",
      "\n",
      "\n"
     ]
    },
    {
     "data": {
      "image/png": "[encoded data removed]",
      "text/plain": [
       "<Figure size 432x288 with 1 Axes>"
      ]
     },
     "metadata": {
      "needs_background": "light"
     },
     "output_type": "display_data"
    }
   ],
   "source": [
    "# a\n",
    "x = np.linspace(-5, 5, 100)\n",
    "y = 0.5*x-1\n",
    "pts = np.column_stack((x,y))\n",
    "print(pts)\n",
    "print('\\n')\n",
    "# b\n",
    "noise = 4 * np.random.rand(100) - 1\n",
    "pts[:,1] = pts[:,1] + noise\n",
    "print('\\n')\n",
    "# c\n",
    "plt.hist(noise)\n",
    "plt.show()\n",
    "print('\\n')\n",
    "# d\n",
    "plt.scatter(pts[:,0], pts[:,1])\n",
    "# plt.show()\n",
    "print('\\n')\n",
    "# e\n",
    "plt.plot(x, y, 'r')\n",
    "plt.show()"
   ]
  },
  {
   "cell_type": "markdown",
   "metadata": {},
   "source": [
    "### 3) Make an array using linspace that goes from 0 to 360 in 180 steps. \n",
    "* Find all numbers in the array that are greater than 20\n",
    "* Find all numbers in the array that less than 160 and greater than 45\n",
    "* Find all numbers greater than 20 and less than 40 and assign to variable x. Then find all numbers that are greater than 60 and less than 81 and assign to variable y. \n",
    "    * Use an if...else statement and a boolean test to see if x and y are the same length. If they are, then multiply each element of x with the corresponding element in y. Do this first with a loop and then using the numpy equivalent. If x and y are not the same length then crop the longer of the two so that they are and then do the element by element multipication using a for loop. \n",
    "    * ***Make your implementation able to handle all cases of changing the range of values assigned to x and y (i.e. it will handle when x is longer than y and when y is longer than x)***\n",
    "    * Next repeat the last step with the if...then logic but replace your element-by-element loop with the numpy equivalent (get rid of the loop).\n",
    "* **Worth 5,000 bonus points**: which method, for loop vs numpy way, is faster? Google \"cell magic timeit\". Hint: when using the cell magic timeit, you'll need to do all variable assignments in the cell that you're timing (i.e. you'll need to assign x, y again in that cell)"
   ]
  },
  {
   "cell_type": "code",
   "execution_count": 85,
   "metadata": {},
   "outputs": [
    {
     "name": "stdout",
     "output_type": "stream",
     "text": [
      "[ 20.11173184  22.12290503  24.13407821  26.1452514   28.15642458\n",
      "  30.16759777  32.17877095  34.18994413  36.20111732  38.2122905\n",
      "  40.22346369  42.23463687  44.24581006  46.25698324  48.26815642\n",
      "  50.27932961  52.29050279  54.30167598  56.31284916  58.32402235\n",
      "  60.33519553  62.34636872  64.3575419   66.36871508  68.37988827\n",
      "  70.39106145  72.40223464  74.41340782  76.42458101  78.43575419\n",
      "  80.44692737  82.45810056  84.46927374  86.48044693  88.49162011\n",
      "  90.5027933   92.51396648  94.52513966  96.53631285  98.54748603\n",
      " 100.55865922 102.5698324  104.58100559 106.59217877 108.60335196\n",
      " 110.61452514 112.62569832 114.63687151 116.64804469 118.65921788\n",
      " 120.67039106 122.68156425 124.69273743 126.70391061 128.7150838\n",
      " 130.72625698 132.73743017 134.74860335 136.75977654 138.77094972\n",
      " 140.78212291 142.79329609 144.80446927 146.81564246 148.82681564\n",
      " 150.83798883 152.84916201 154.8603352  156.87150838 158.88268156\n",
      " 160.89385475 162.90502793 164.91620112 166.9273743  168.93854749\n",
      " 170.94972067 172.96089385 174.97206704 176.98324022 178.99441341\n",
      " 181.00558659 183.01675978 185.02793296 187.03910615 189.05027933\n",
      " 191.06145251 193.0726257  195.08379888 197.09497207 199.10614525\n",
      " 201.11731844 203.12849162 205.1396648  207.15083799 209.16201117\n",
      " 211.17318436 213.18435754 215.19553073 217.20670391 219.21787709\n",
      " 221.22905028 223.24022346 225.25139665 227.26256983 229.27374302\n",
      " 231.2849162  233.29608939 235.30726257 237.31843575 239.32960894\n",
      " 241.34078212 243.35195531 245.36312849 247.37430168 249.38547486\n",
      " 251.39664804 253.40782123 255.41899441 257.4301676  259.44134078\n",
      " 261.45251397 263.46368715 265.47486034 267.48603352 269.4972067\n",
      " 271.50837989 273.51955307 275.53072626 277.54189944 279.55307263\n",
      " 281.56424581 283.57541899 285.58659218 287.59776536 289.60893855\n",
      " 291.62011173 293.63128492 295.6424581  297.65363128 299.66480447\n",
      " 301.67597765 303.68715084 305.69832402 307.70949721 309.72067039\n",
      " 311.73184358 313.74301676 315.75418994 317.76536313 319.77653631\n",
      " 321.7877095  323.79888268 325.81005587 327.82122905 329.83240223\n",
      " 331.84357542 333.8547486  335.86592179 337.87709497 339.88826816\n",
      " 341.89944134 343.91061453 345.92178771 347.93296089 349.94413408\n",
      " 351.95530726 353.96648045 355.97765363 357.98882682 360.        ]\n",
      "\n",
      "\n",
      "[ 46.25698324  48.26815642  50.27932961  52.29050279  54.30167598\n",
      "  56.31284916  58.32402235  60.33519553  62.34636872  64.3575419\n",
      "  66.36871508  68.37988827  70.39106145  72.40223464  74.41340782\n",
      "  76.42458101  78.43575419  80.44692737  82.45810056  84.46927374\n",
      "  86.48044693  88.49162011  90.5027933   92.51396648  94.52513966\n",
      "  96.53631285  98.54748603 100.55865922 102.5698324  104.58100559\n",
      " 106.59217877 108.60335196 110.61452514 112.62569832 114.63687151\n",
      " 116.64804469 118.65921788 120.67039106 122.68156425 124.69273743\n",
      " 126.70391061 128.7150838  130.72625698 132.73743017 134.74860335\n",
      " 136.75977654 138.77094972 140.78212291 142.79329609 144.80446927\n",
      " 146.81564246 148.82681564 150.83798883 152.84916201 154.8603352\n",
      " 156.87150838 158.88268156]\n",
      "\n",
      "\n"
     ]
    }
   ],
   "source": [
    "arr3 = np.linspace(0, 360, 180)\n",
    "# a \n",
    "print(arr3[arr3>20])\n",
    "print('\\n')\n",
    "# b \n",
    "print(arr3[(160>arr3)&(arr3>45)])\n",
    "print('\\n')\n",
    "# c\n",
    "x = arr3[(40>arr3)&(arr3>20)]\n",
    "y = arr3[(81>arr3)&(arr3>60)]\n",
    "if len(x) == len(y):\n",
    "    z = np.full(len(x), np.nan)\n",
    "    for i in np.arange(len(x)):\n",
    "        z[i] = x[i] * y[i]\n",
    "else:\n",
    "    if len(x) > len(y):\n",
    "        x = x[:len(y)]\n",
    "    elif len(y) > len(x):\n",
    "        y = y[:len(x)]\n",
    "    z = np.full(len(x), np.nan)\n",
    "    for i in np.arange(len(x)):\n",
    "        z[i] = x[i] * y[i]\n"
   ]
  },
  {
   "cell_type": "code",
   "execution_count": null,
   "metadata": {},
   "outputs": [],
   "source": []
  },
  {
   "cell_type": "code",
   "execution_count": null,
   "metadata": {},
   "outputs": [],
   "source": []
  }
 ],
 "metadata": {
  "kernelspec": {
   "display_name": "Python 3",
   "language": "python",
   "name": "python3"
  },
  "language_info": {
   "codemirror_mode": {
    "name": "ipython",
    "version": 3
   },
   "file_extension": ".py",
   "mimetype": "text/x-python",
   "name": "python",
   "nbconvert_exporter": "python",
   "pygments_lexer": "ipython3",
   "version": "3.8.3"
  }
 },
 "nbformat": 4,
 "nbformat_minor": 4
}
