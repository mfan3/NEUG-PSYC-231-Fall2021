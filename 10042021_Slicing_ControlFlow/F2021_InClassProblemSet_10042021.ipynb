{
 "cells": [
  {
   "cell_type": "markdown",
   "metadata": {},
   "source": [
    "### 1) Make a list of numbers from 0 to 30 but only include every other number (counting by 2’s). Your list **should** include the number 30 (so: 0,2,4....30). Do not 'hard code' the list of numbers but instead use a function to generate the list. Then use slicing to print out the following (note: remember that start, stop, and step are the arguments in slicing):\n",
    "\n",
    "* a) Print out the first 4 numbers from the list.\n",
    "* b) Print out the last 4 numbers from the list.\n",
    "* c) Print out every other number, starting with the 3rd number and going to the end of the list\n",
    "* d) Print out the list backwards"
   ]
  },
  {
   "cell_type": "code",
   "execution_count": 12,
   "metadata": {},
   "outputs": [
    {
     "name": "stdout",
     "output_type": "stream",
     "text": [
      "[0, 2, 4, 6, 8, 10, 12, 14, 16, 18, 20, 22, 24, 26, 28, 30]\n",
      "[0, 2, 4, 6]\n",
      "[24, 26, 28, 30]\n",
      "[4, 8, 12, 16, 20, 24, 28]\n",
      "[30, 28, 26, 24, 22, 20, 18, 16, 14, 12, 10, 8, 6, 4, 2, 0]\n"
     ]
    }
   ],
   "source": [
    "# remember start, stop, step...\n",
    "lst = list(range(0, 31, 2))\n",
    "print(lst)\n",
    "# a\n",
    "print(lst[:4])\n",
    "# b\n",
    "print(lst[-4:])\n",
    "# c\n",
    "print(lst[2::2])\n",
    "# d\n",
    "print(lst[::-1])"
   ]
  },
  {
   "cell_type": "raw",
   "metadata": {},
   "source": [
    "# correct output\n",
    "[0, 2, 4, 6, 8, 10, 12, 14, 16, 18, 20, 22, 24, 26, 28, 30]\n",
    "[0, 2, 4, 6]\n",
    "[24, 26, 28, 30]\n",
    "[4, 8, 12, 16, 20, 24, 28]\n",
    "[30, 28, 26, 24, 22, 20, 18, 16, 14, 12, 10, 8, 6, 4, 2, 0]"
   ]
  },
  {
   "cell_type": "markdown",
   "metadata": {},
   "source": [
    "### 2) Make a list of numbers 0,1,2,3,4. Assign that list to the variable “lst1”. Then make another variable “lst2” and assign lst2 to take on the values of lst1.\n",
    "\n",
    "* a) Square the 3rd value in lst1 (the number '2') and make sure that the value in the list is updated.\n",
    "* b) Subtract 4 from the 4th element of lst1 and make sure that the value in the list is updated.\n",
    "* c) Test to see if the value -1 is in lst1. Is the answer True or False?\n",
    "* d) Test to see if the value 5 is not in lst1. Is the answer True or False?\n",
    "* e) Test to see if the value of the 1st element is less than 0. If it is, then print 'hi', if the number is greater than 0 print 'bye', and if the number equals zero then print 'zero'\n",
    "* f) If -1 is in lst2 then start over and follow the directions, but this time set up lst2 so that it does not change when you modify lst1."
   ]
  },
  {
   "cell_type": "code",
   "execution_count": 30,
   "metadata": {},
   "outputs": [
    {
     "name": "stdout",
     "output_type": "stream",
     "text": [
      "[0, 1, 2, 3, 4]\n",
      "[0, 1, 4, 3, 4]\n",
      "[0, 1, 4, -1, 4]\n",
      "True\n",
      "True\n",
      "zero\n",
      "True\n",
      "[0, 1, 4, -1, 4]\n",
      "[0, 1, 4, -1, 4]\n"
     ]
    }
   ],
   "source": [
    "lst1 = [0, 1, 2, 3, 4]\n",
    "lst2 = lst1\n",
    "print(lst2)\n",
    "# a\n",
    "lst2[2] = (lst2[2])**2\n",
    "print(lst2)\n",
    "# b\n",
    "lst1[3] = lst1[3]-4\n",
    "print(lst1)\n",
    "# c\n",
    "print(-1 in lst1)\n",
    "# d\n",
    "print(5 not in lst1)\n",
    "# e\n",
    "if lst1[0] <0:\n",
    "    print('hi')\n",
    "else:\n",
    "    print('zero')\n",
    "# f ???\n",
    "print(-1 in lst2)\n",
    "if -1 in lst2:\n",
    "    lst2 = lst1.copy()\n",
    "print(lst2)"
   ]
  },
  {
   "cell_type": "raw",
   "metadata": {},
   "source": [
    "# correct output, and the last line should go to false after the last step\n",
    "[0, 2, 4, 6, 8, 10, 12, 14, 16, 18, 20, 22, 24, 26, 28, 30]\n",
    "[0, 1, 4, 3, 4]\n",
    "[0, 1, 4, -1, 4]\n",
    "True\n",
    "True\n",
    "zero\n",
    "True"
   ]
  },
  {
   "cell_type": "markdown",
   "metadata": {},
   "source": [
    "### 3) Linhui and Eena want to create and maintain a list of the kids in the neighbourhood. They also want to add the kids’ ages right after their respective names. Help Linhui and Eena with this.\n",
    "* a) Make separate lists, each containing the name of the kid as the first item and the age of the kid as the second item. Eg. kid1 = ['Sara', 12]. Make 4 such lists (and just make up a name and an age for each kid).\n",
    "* b) Linhui uses the concatenated list approach to make a master list called “concat_list” with the contents of all lists as elements of the master_list. Eg. ['Sara',\n",
    "12, 'Maya', 13.........]. Make this list for Linhui and print it. (Use lists created in part a)\n",
    "* c) Eena uses the “list in a list” approach to make the master list and calls it “list_in_list” and it looks like this : [['Sara', 12], ['Maya', 13], ........]. Make this lists-in-list for Eena and print it. (Use lists created in part a)\n",
    "* d) They revisit the lists in two years and they both must increment the age of all kids by two years now. Do this increment in both “concat_list” and “list_in_list” and print both.\n",
    "* e) They realize that one kid has left the neighbourhood. Delete one kid’s entry from both the lists and print updated lists). There has also been an addition of a new kid, Shijia (25 years old), to the neighbourhood. Add Shijia's details to both lists and print updated lists."
   ]
  },
  {
   "cell_type": "code",
   "execution_count": 47,
   "metadata": {},
   "outputs": [
    {
     "name": "stdout",
     "output_type": "stream",
     "text": [
      "['john', 43, 'sunyoung', 37, 'tim', 26, 'maggie', 22]\n",
      "[['john', 43], ['sunyoung', 37], ['tim', 26], ['maggie', 22]]\n",
      "['john', 45, 'sunyoung', 39, 'tim', 28, 'maggie', 24]\n",
      "[['john', 45], ['sunyoung', 39], ['tim', 28], ['maggie', 24]]\n",
      "['sunyoung', 39, 'tim', 28, 'maggie', 24]\n",
      "[['sunyoung', 39], ['tim', 28], ['maggie', 24]]\n",
      "['sunyoung', 39, 'tim', 28, 'maggie', 24, 'Shijia', 25]\n",
      "[['sunyoung', 39], ['tim', 28], ['maggie', 24], ['Shijia', 25]]\n"
     ]
    }
   ],
   "source": [
    "# a\n",
    "kid1 = ['john', 43]\n",
    "kid2 = ['sunyoung', 37]\n",
    "kid3 = ['tim', 26]\n",
    "kid4 = ['maggie', 22]\n",
    "# b\n",
    "concat_list = kid1+kid2+kid3+kid4\n",
    "print(concat_list)\n",
    "# c\n",
    "list_in_lists = [kid1, kid2, kid3, kid4]\n",
    "print(list_in_lists)\n",
    "# d\n",
    "for i in range(1,len(concat_list),2):\n",
    "    concat_list[i] = concat_list + 2\n",
    "print(concat_list)    \n",
    "for i in range(len(list_in_lists)):\n",
    "    list_in_lists[i][1] =  list_in_lists[i][1] + 2\n",
    "print(list_in_lists)\n",
    "# e\n",
    "kid5 = ['Shijia', 25]\n",
    "del concat_list [0:2]\n",
    "print(concat_list)\n",
    "del list_in_lists[0]\n",
    "print(list_in_lists)\n",
    "concat_list = concat_list + kid5\n",
    "print(concat_list)\n",
    "list_in_lists.append(kid5)\n",
    "print(list_in_lists)"
   ]
  },
  {
   "cell_type": "raw",
   "metadata": {},
   "source": [
    "# correct output\n",
    "['john', 43, 'sunyoung', 37, 'tim', 26, 'maggie', 22]\n",
    "[['john', 43], ['sunyoung', 37], ['tim', 26], ['maggie', 22]]\n",
    "['john', 45, 'sunyoung', 39, 'tim', 28, 'maggie', 24]\n",
    "[['john', 45], ['sunyoung', 39], ['tim', 28], ['maggie', 24]]\n",
    "['sunyoung', 39, 'tim', 28, 'maggie', 24]\n",
    "[['sunyoung', 39], ['tim', 28], ['maggie', 24]]\n",
    "['sunyoung', 39, 'tim', 28, 'maggie', 24, 'Shijia', 25]\n",
    "[['sunyoung', 39], ['tim', 28], ['maggie', 24], ['Shijia', 25]]"
   ]
  },
  {
   "cell_type": "markdown",
   "metadata": {},
   "source": [
    "### 4) Imagine that you have a data set where the words are already stored in a list with each element being one word, but there is an inexplicable number of spaces at the start or end of each word. Before you can deal with the data you need to clean the spaces so your can determine the shortest word in the list. Then sort the list based on the length of the words such that the shortest word in first. \n",
    "\n",
    "**Note**: You solved this problem last week, but this week solve it using a for-loop. If you are like me, you may find this to be a more intuitive way to solve this problem. \n",
    "\n",
    "**Hint**: The sorted function has an optional argument key that you can pass a function to such that sorted uses that function to determine the order of sorting."
   ]
  },
  {
   "cell_type": "code",
   "execution_count": 53,
   "metadata": {},
   "outputs": [
    {
     "name": "stdout",
     "output_type": "stream",
     "text": [
      "['foot', 'banana', 'peanut', 'python', 'aardvark', 'xylophone']\n"
     ]
    }
   ],
   "source": [
    "words_lst = ['banana ', ' peanut  ', 'xylophone  ', 'aardvark  ', 'foot       ', 'python    ']\n",
    "for i in range(len(words_lst)):\n",
    "    words_lst[i] = words_lst[i].strip()\n",
    "print(sorted(words_lst, key=len))"
   ]
  },
  {
   "cell_type": "raw",
   "metadata": {},
   "source": [
    "['foot', 'banana', 'peanut', 'python', 'aardvark', 'xylophone']"
   ]
  },
  {
   "cell_type": "markdown",
   "metadata": {},
   "source": [
    "### 5) The pandemic is over and you are lucky enough to be a contestant on the next season of The Amazing Race. You have traversed the world over the course of the first 11 legs, succeeding in each leg. Now, as the final leg and 1,000,000 dollars is on the line, you need to be at your best and make quick time. You know the final leg will take you back to the US, as it always does, but where should you be heading?\n",
    "\n",
    "* a) You are in Sydney, Australia, where the last leg finished, but have not been told where in the US to fly to. Instead, you have been given the following clue which you must decode: *nohj iocef cmglil lhla*. It strikes you that they may have just scrambled the letters of each word. Fortunately, following the Amazing Data Analysis class you took last fall, you are a Python aficionado and are able to borrow a computer from the local library in Sydney. You think you can use Python to brute force enumerate all the permutations of each word rather than trying to come up with the words on your own. A quick Google search helped you find the *permute_str* function below on Stack Overflow. Use this function and a for loop to print all the permutations for each word. \n",
    "* b) Looking through the permutations, can you figure out what each word should be? \n",
    "* c) One of the words should give away where you should be flying to. Once you figure this out, you hurry to schedule the soonest flight there from Sydney. Where will you be heading?\n",
    "\n",
    "* ***bonus*** Make your program cooler and more human usable by reading this [post](https://readthedocs.org/projects/pyspellchecker/downloads/pdf/latest/) and then using the spell.known() method. You will first need to install pyspellchecker by opening a command window and typing: pip install pyspellchecker"
   ]
  },
  {
   "cell_type": "code",
   "execution_count": 1,
   "metadata": {},
   "outputs": [],
   "source": [
    "# run this cell to import the permutations function and to define the permute_str function\n",
    "from itertools import permutations\n",
    "\n",
    "def permute_str(s):\n",
    "    return [''.join(p) for p in permutations(s)]"
   ]
  },
  {
   "cell_type": "code",
   "execution_count": 21,
   "metadata": {},
   "outputs": [
    {
     "name": "stdout",
     "output_type": "stream",
     "text": [
      "['nohj', 'nojh', 'nhoj', 'nhjo', 'njoh', 'njho', 'onhj', 'onjh', 'ohnj', 'ohjn', 'ojnh', 'ojhn', 'hnoj', 'hnjo', 'honj', 'hojn', 'hjno', 'hjon', 'jnoh', 'jnho', 'jonh', 'john', 'jhno', 'jhon']\n",
      "['ioceff', 'ioceff', 'iocfef', 'iocffe', 'iocfef', 'iocffe', 'ioecff', 'ioecff', 'ioefcf', 'ioeffc', 'ioefcf', 'ioeffc', 'iofcef', 'iofcfe', 'iofecf', 'iofefc', 'ioffce', 'ioffec', 'iofcef', 'iofcfe', 'iofecf', 'iofefc', 'ioffce', 'ioffec', 'icoeff', 'icoeff', 'icofef', 'icoffe', 'icofef', 'icoffe', 'iceoff', 'iceoff', 'icefof', 'iceffo', 'icefof', 'iceffo', 'icfoef', 'icfofe', 'icfeof', 'icfefo', 'icffoe', 'icffeo', 'icfoef', 'icfofe', 'icfeof', 'icfefo', 'icffoe', 'icffeo', 'ieocff', 'ieocff', 'ieofcf', 'ieoffc', 'ieofcf', 'ieoffc', 'iecoff', 'iecoff', 'iecfof', 'iecffo', 'iecfof', 'iecffo', 'iefocf', 'iefofc', 'iefcof', 'iefcfo', 'ieffoc', 'ieffco', 'iefocf', 'iefofc', 'iefcof', 'iefcfo', 'ieffoc', 'ieffco', 'ifocef', 'ifocfe', 'ifoecf', 'ifoefc', 'ifofce', 'ifofec', 'ifcoef', 'ifcofe', 'ifceof', 'ifcefo', 'ifcfoe', 'ifcfeo', 'ifeocf', 'ifeofc', 'ifecof', 'ifecfo', 'ifefoc', 'ifefco', 'iffoce', 'iffoec', 'iffcoe', 'iffceo', 'iffeoc', 'iffeco', 'ifocef', 'ifocfe', 'ifoecf', 'ifoefc', 'ifofce', 'ifofec', 'ifcoef', 'ifcofe', 'ifceof', 'ifcefo', 'ifcfoe', 'ifcfeo', 'ifeocf', 'ifeofc', 'ifecof', 'ifecfo', 'ifefoc', 'ifefco', 'iffoce', 'iffoec', 'iffcoe', 'iffceo', 'iffeoc', 'iffeco', 'oiceff', 'oiceff', 'oicfef', 'oicffe', 'oicfef', 'oicffe', 'oiecff', 'oiecff', 'oiefcf', 'oieffc', 'oiefcf', 'oieffc', 'oifcef', 'oifcfe', 'oifecf', 'oifefc', 'oiffce', 'oiffec', 'oifcef', 'oifcfe', 'oifecf', 'oifefc', 'oiffce', 'oiffec', 'ocieff', 'ocieff', 'ocifef', 'ociffe', 'ocifef', 'ociffe', 'oceiff', 'oceiff', 'ocefif', 'oceffi', 'ocefif', 'oceffi', 'ocfief', 'ocfife', 'ocfeif', 'ocfefi', 'ocffie', 'ocffei', 'ocfief', 'ocfife', 'ocfeif', 'ocfefi', 'ocffie', 'ocffei', 'oeicff', 'oeicff', 'oeifcf', 'oeiffc', 'oeifcf', 'oeiffc', 'oeciff', 'oeciff', 'oecfif', 'oecffi', 'oecfif', 'oecffi', 'oeficf', 'oefifc', 'oefcif', 'oefcfi', 'oeffic', 'oeffci', 'oeficf', 'oefifc', 'oefcif', 'oefcfi', 'oeffic', 'oeffci', 'oficef', 'oficfe', 'ofiecf', 'ofiefc', 'ofifce', 'ofifec', 'ofcief', 'ofcife', 'ofceif', 'ofcefi', 'ofcfie', 'ofcfei', 'ofeicf', 'ofeifc', 'ofecif', 'ofecfi', 'ofefic', 'ofefci', 'office', 'offiec', 'offcie', 'offcei', 'offeic', 'offeci', 'oficef', 'oficfe', 'ofiecf', 'ofiefc', 'ofifce', 'ofifec', 'ofcief', 'ofcife', 'ofceif', 'ofcefi', 'ofcfie', 'ofcfei', 'ofeicf', 'ofeifc', 'ofecif', 'ofecfi', 'ofefic', 'ofefci', 'office', 'offiec', 'offcie', 'offcei', 'offeic', 'offeci', 'cioeff', 'cioeff', 'ciofef', 'cioffe', 'ciofef', 'cioffe', 'cieoff', 'cieoff', 'ciefof', 'cieffo', 'ciefof', 'cieffo', 'cifoef', 'cifofe', 'cifeof', 'cifefo', 'ciffoe', 'ciffeo', 'cifoef', 'cifofe', 'cifeof', 'cifefo', 'ciffoe', 'ciffeo', 'coieff', 'coieff', 'coifef', 'coiffe', 'coifef', 'coiffe', 'coeiff', 'coeiff', 'coefif', 'coeffi', 'coefif', 'coeffi', 'cofief', 'cofife', 'cofeif', 'cofefi', 'coffie', 'coffei', 'cofief', 'cofife', 'cofeif', 'cofefi', 'coffie', 'coffei', 'ceioff', 'ceioff', 'ceifof', 'ceiffo', 'ceifof', 'ceiffo', 'ceoiff', 'ceoiff', 'ceofif', 'ceoffi', 'ceofif', 'ceoffi', 'cefiof', 'cefifo', 'cefoif', 'cefofi', 'ceffio', 'ceffoi', 'cefiof', 'cefifo', 'cefoif', 'cefofi', 'ceffio', 'ceffoi', 'cfioef', 'cfiofe', 'cfieof', 'cfiefo', 'cfifoe', 'cfifeo', 'cfoief', 'cfoife', 'cfoeif', 'cfoefi', 'cfofie', 'cfofei', 'cfeiof', 'cfeifo', 'cfeoif', 'cfeofi', 'cfefio', 'cfefoi', 'cffioe', 'cffieo', 'cffoie', 'cffoei', 'cffeio', 'cffeoi', 'cfioef', 'cfiofe', 'cfieof', 'cfiefo', 'cfifoe', 'cfifeo', 'cfoief', 'cfoife', 'cfoeif', 'cfoefi', 'cfofie', 'cfofei', 'cfeiof', 'cfeifo', 'cfeoif', 'cfeofi', 'cfefio', 'cfefoi', 'cffioe', 'cffieo', 'cffoie', 'cffoei', 'cffeio', 'cffeoi', 'eiocff', 'eiocff', 'eiofcf', 'eioffc', 'eiofcf', 'eioffc', 'eicoff', 'eicoff', 'eicfof', 'eicffo', 'eicfof', 'eicffo', 'eifocf', 'eifofc', 'eifcof', 'eifcfo', 'eiffoc', 'eiffco', 'eifocf', 'eifofc', 'eifcof', 'eifcfo', 'eiffoc', 'eiffco', 'eoicff', 'eoicff', 'eoifcf', 'eoiffc', 'eoifcf', 'eoiffc', 'eociff', 'eociff', 'eocfif', 'eocffi', 'eocfif', 'eocffi', 'eoficf', 'eofifc', 'eofcif', 'eofcfi', 'eoffic', 'eoffci', 'eoficf', 'eofifc', 'eofcif', 'eofcfi', 'eoffic', 'eoffci', 'ecioff', 'ecioff', 'ecifof', 'eciffo', 'ecifof', 'eciffo', 'ecoiff', 'ecoiff', 'ecofif', 'ecoffi', 'ecofif', 'ecoffi', 'ecfiof', 'ecfifo', 'ecfoif', 'ecfofi', 'ecffio', 'ecffoi', 'ecfiof', 'ecfifo', 'ecfoif', 'ecfofi', 'ecffio', 'ecffoi', 'efiocf', 'efiofc', 'eficof', 'eficfo', 'efifoc', 'efifco', 'efoicf', 'efoifc', 'efocif', 'efocfi', 'efofic', 'efofci', 'efciof', 'efcifo', 'efcoif', 'efcofi', 'efcfio', 'efcfoi', 'effioc', 'effico', 'effoic', 'effoci', 'effcio', 'effcoi', 'efiocf', 'efiofc', 'eficof', 'eficfo', 'efifoc', 'efifco', 'efoicf', 'efoifc', 'efocif', 'efocfi', 'efofic', 'efofci', 'efciof', 'efcifo', 'efcoif', 'efcofi', 'efcfio', 'efcfoi', 'effioc', 'effico', 'effoic', 'effoci', 'effcio', 'effcoi', 'fiocef', 'fiocfe', 'fioecf', 'fioefc', 'fiofce', 'fiofec', 'ficoef', 'ficofe', 'ficeof', 'ficefo', 'ficfoe', 'ficfeo', 'fieocf', 'fieofc', 'fiecof', 'fiecfo', 'fiefoc', 'fiefco', 'fifoce', 'fifoec', 'fifcoe', 'fifceo', 'fifeoc', 'fifeco', 'foicef', 'foicfe', 'foiecf', 'foiefc', 'foifce', 'foifec', 'focief', 'focife', 'foceif', 'focefi', 'focfie', 'focfei', 'foeicf', 'foeifc', 'foecif', 'foecfi', 'foefic', 'foefci', 'fofice', 'fofiec', 'fofcie', 'fofcei', 'fofeic', 'fofeci', 'fcioef', 'fciofe', 'fcieof', 'fciefo', 'fcifoe', 'fcifeo', 'fcoief', 'fcoife', 'fcoeif', 'fcoefi', 'fcofie', 'fcofei', 'fceiof', 'fceifo', 'fceoif', 'fceofi', 'fcefio', 'fcefoi', 'fcfioe', 'fcfieo', 'fcfoie', 'fcfoei', 'fcfeio', 'fcfeoi', 'feiocf', 'feiofc', 'feicof', 'feicfo', 'feifoc', 'feifco', 'feoicf', 'feoifc', 'feocif', 'feocfi', 'feofic', 'feofci', 'feciof', 'fecifo', 'fecoif', 'fecofi', 'fecfio', 'fecfoi', 'fefioc', 'fefico', 'fefoic', 'fefoci', 'fefcio', 'fefcoi', 'ffioce', 'ffioec', 'fficoe', 'fficeo', 'ffieoc', 'ffieco', 'ffoice', 'ffoiec', 'ffocie', 'ffocei', 'ffoeic', 'ffoeci', 'ffcioe', 'ffcieo', 'ffcoie', 'ffcoei', 'ffceio', 'ffceoi', 'ffeioc', 'ffeico', 'ffeoic', 'ffeoci', 'ffecio', 'ffecoi', 'fiocef', 'fiocfe', 'fioecf', 'fioefc', 'fiofce', 'fiofec', 'ficoef', 'ficofe', 'ficeof', 'ficefo', 'ficfoe', 'ficfeo', 'fieocf', 'fieofc', 'fiecof', 'fiecfo', 'fiefoc', 'fiefco', 'fifoce', 'fifoec', 'fifcoe', 'fifceo', 'fifeoc', 'fifeco', 'foicef', 'foicfe', 'foiecf', 'foiefc', 'foifce', 'foifec', 'focief', 'focife', 'foceif', 'focefi', 'focfie', 'focfei', 'foeicf', 'foeifc', 'foecif', 'foecfi', 'foefic', 'foefci', 'fofice', 'fofiec', 'fofcie', 'fofcei', 'fofeic', 'fofeci', 'fcioef', 'fciofe', 'fcieof', 'fciefo', 'fcifoe', 'fcifeo', 'fcoief', 'fcoife', 'fcoeif', 'fcoefi', 'fcofie', 'fcofei', 'fceiof', 'fceifo', 'fceoif', 'fceofi', 'fcefio', 'fcefoi', 'fcfioe', 'fcfieo', 'fcfoie', 'fcfoei', 'fcfeio', 'fcfeoi', 'feiocf', 'feiofc', 'feicof', 'feicfo', 'feifoc', 'feifco', 'feoicf', 'feoifc', 'feocif', 'feocfi', 'feofic', 'feofci', 'feciof', 'fecifo', 'fecoif', 'fecofi', 'fecfio', 'fecfoi', 'fefioc', 'fefico', 'fefoic', 'fefoci', 'fefcio', 'fefcoi', 'ffioce', 'ffioec', 'fficoe', 'fficeo', 'ffieoc', 'ffieco', 'ffoice', 'ffoiec', 'ffocie', 'ffocei', 'ffoeic', 'ffoeci', 'ffcioe', 'ffcieo', 'ffcoie', 'ffcoei', 'ffceio', 'ffceoi', 'ffeioc', 'ffeico', 'ffeoic', 'ffeoci', 'ffecio', 'ffecoi']\n",
      "['cmglil', 'cmglli', 'cmgill', 'cmgill', 'cmglli', 'cmglil', 'cmlgil', 'cmlgli', 'cmligl', 'cmlilg', 'cmllgi', 'cmllig', 'cmigll', 'cmigll', 'cmilgl', 'cmillg', 'cmilgl', 'cmillg', 'cmlgli', 'cmlgil', 'cmllgi', 'cmllig', 'cmligl', 'cmlilg', 'cgmlil', 'cgmlli', 'cgmill', 'cgmill', 'cgmlli', 'cgmlil', 'cglmil', 'cglmli', 'cgliml', 'cglilm', 'cgllmi', 'cgllim', 'cgimll', 'cgimll', 'cgilml', 'cgillm', 'cgilml', 'cgillm', 'cglmli', 'cglmil', 'cgllmi', 'cgllim', 'cgliml', 'cglilm', 'clmgil', 'clmgli', 'clmigl', 'clmilg', 'clmlgi', 'clmlig', 'clgmil', 'clgmli', 'clgiml', 'clgilm', 'clglmi', 'clglim', 'climgl', 'climlg', 'cligml', 'cliglm', 'clilmg', 'clilgm', 'cllmgi', 'cllmig', 'cllgmi', 'cllgim', 'cllimg', 'clligm', 'cimgll', 'cimgll', 'cimlgl', 'cimllg', 'cimlgl', 'cimllg', 'cigmll', 'cigmll', 'ciglml', 'cigllm', 'ciglml', 'cigllm', 'cilmgl', 'cilmlg', 'cilgml', 'cilglm', 'cillmg', 'cillgm', 'cilmgl', 'cilmlg', 'cilgml', 'cilglm', 'cillmg', 'cillgm', 'clmgli', 'clmgil', 'clmlgi', 'clmlig', 'clmigl', 'clmilg', 'clgmli', 'clgmil', 'clglmi', 'clglim', 'clgiml', 'clgilm', 'cllmgi', 'cllmig', 'cllgmi', 'cllgim', 'cllimg', 'clligm', 'climgl', 'climlg', 'cligml', 'cliglm', 'clilmg', 'clilgm', 'mcglil', 'mcglli', 'mcgill', 'mcgill', 'mcglli', 'mcglil', 'mclgil', 'mclgli', 'mcligl', 'mclilg', 'mcllgi', 'mcllig', 'mcigll', 'mcigll', 'mcilgl', 'mcillg', 'mcilgl', 'mcillg', 'mclgli', 'mclgil', 'mcllgi', 'mcllig', 'mcligl', 'mclilg', 'mgclil', 'mgclli', 'mgcill', 'mgcill', 'mgclli', 'mgclil', 'mglcil', 'mglcli', 'mglicl', 'mglilc', 'mgllci', 'mgllic', 'mgicll', 'mgicll', 'mgilcl', 'mgillc', 'mgilcl', 'mgillc', 'mglcli', 'mglcil', 'mgllci', 'mgllic', 'mglicl', 'mglilc', 'mlcgil', 'mlcgli', 'mlcigl', 'mlcilg', 'mlclgi', 'mlclig', 'mlgcil', 'mlgcli', 'mlgicl', 'mlgilc', 'mlglci', 'mlglic', 'mlicgl', 'mliclg', 'mligcl', 'mliglc', 'mlilcg', 'mlilgc', 'mllcgi', 'mllcig', 'mllgci', 'mllgic', 'mllicg', 'mlligc', 'micgll', 'micgll', 'miclgl', 'micllg', 'miclgl', 'micllg', 'migcll', 'migcll', 'miglcl', 'migllc', 'miglcl', 'migllc', 'milcgl', 'milclg', 'milgcl', 'milglc', 'millcg', 'millgc', 'milcgl', 'milclg', 'milgcl', 'milglc', 'millcg', 'millgc', 'mlcgli', 'mlcgil', 'mlclgi', 'mlclig', 'mlcigl', 'mlcilg', 'mlgcli', 'mlgcil', 'mlglci', 'mlglic', 'mlgicl', 'mlgilc', 'mllcgi', 'mllcig', 'mllgci', 'mllgic', 'mllicg', 'mlligc', 'mlicgl', 'mliclg', 'mligcl', 'mliglc', 'mlilcg', 'mlilgc', 'gcmlil', 'gcmlli', 'gcmill', 'gcmill', 'gcmlli', 'gcmlil', 'gclmil', 'gclmli', 'gcliml', 'gclilm', 'gcllmi', 'gcllim', 'gcimll', 'gcimll', 'gcilml', 'gcillm', 'gcilml', 'gcillm', 'gclmli', 'gclmil', 'gcllmi', 'gcllim', 'gcliml', 'gclilm', 'gmclil', 'gmclli', 'gmcill', 'gmcill', 'gmclli', 'gmclil', 'gmlcil', 'gmlcli', 'gmlicl', 'gmlilc', 'gmllci', 'gmllic', 'gmicll', 'gmicll', 'gmilcl', 'gmillc', 'gmilcl', 'gmillc', 'gmlcli', 'gmlcil', 'gmllci', 'gmllic', 'gmlicl', 'gmlilc', 'glcmil', 'glcmli', 'glciml', 'glcilm', 'glclmi', 'glclim', 'glmcil', 'glmcli', 'glmicl', 'glmilc', 'glmlci', 'glmlic', 'glicml', 'gliclm', 'glimcl', 'glimlc', 'glilcm', 'glilmc', 'gllcmi', 'gllcim', 'gllmci', 'gllmic', 'gllicm', 'gllimc', 'gicmll', 'gicmll', 'giclml', 'gicllm', 'giclml', 'gicllm', 'gimcll', 'gimcll', 'gimlcl', 'gimllc', 'gimlcl', 'gimllc', 'gilcml', 'gilclm', 'gilmcl', 'gilmlc', 'gillcm', 'gillmc', 'gilcml', 'gilclm', 'gilmcl', 'gilmlc', 'gillcm', 'gillmc', 'glcmli', 'glcmil', 'glclmi', 'glclim', 'glciml', 'glcilm', 'glmcli', 'glmcil', 'glmlci', 'glmlic', 'glmicl', 'glmilc', 'gllcmi', 'gllcim', 'gllmci', 'gllmic', 'gllicm', 'gllimc', 'glicml', 'gliclm', 'glimcl', 'glimlc', 'glilcm', 'glilmc', 'lcmgil', 'lcmgli', 'lcmigl', 'lcmilg', 'lcmlgi', 'lcmlig', 'lcgmil', 'lcgmli', 'lcgiml', 'lcgilm', 'lcglmi', 'lcglim', 'lcimgl', 'lcimlg', 'lcigml', 'lciglm', 'lcilmg', 'lcilgm', 'lclmgi', 'lclmig', 'lclgmi', 'lclgim', 'lclimg', 'lcligm', 'lmcgil', 'lmcgli', 'lmcigl', 'lmcilg', 'lmclgi', 'lmclig', 'lmgcil', 'lmgcli', 'lmgicl', 'lmgilc', 'lmglci', 'lmglic', 'lmicgl', 'lmiclg', 'lmigcl', 'lmiglc', 'lmilcg', 'lmilgc', 'lmlcgi', 'lmlcig', 'lmlgci', 'lmlgic', 'lmlicg', 'lmligc', 'lgcmil', 'lgcmli', 'lgciml', 'lgcilm', 'lgclmi', 'lgclim', 'lgmcil', 'lgmcli', 'lgmicl', 'lgmilc', 'lgmlci', 'lgmlic', 'lgicml', 'lgiclm', 'lgimcl', 'lgimlc', 'lgilcm', 'lgilmc', 'lglcmi', 'lglcim', 'lglmci', 'lglmic', 'lglicm', 'lglimc', 'licmgl', 'licmlg', 'licgml', 'licglm', 'liclmg', 'liclgm', 'limcgl', 'limclg', 'limgcl', 'limglc', 'limlcg', 'limlgc', 'ligcml', 'ligclm', 'ligmcl', 'ligmlc', 'liglcm', 'liglmc', 'lilcmg', 'lilcgm', 'lilmcg', 'lilmgc', 'lilgcm', 'lilgmc', 'llcmgi', 'llcmig', 'llcgmi', 'llcgim', 'llcimg', 'llcigm', 'llmcgi', 'llmcig', 'llmgci', 'llmgic', 'llmicg', 'llmigc', 'llgcmi', 'llgcim', 'llgmci', 'llgmic', 'llgicm', 'llgimc', 'llicmg', 'llicgm', 'llimcg', 'llimgc', 'lligcm', 'lligmc', 'icmgll', 'icmgll', 'icmlgl', 'icmllg', 'icmlgl', 'icmllg', 'icgmll', 'icgmll', 'icglml', 'icgllm', 'icglml', 'icgllm', 'iclmgl', 'iclmlg', 'iclgml', 'iclglm', 'icllmg', 'icllgm', 'iclmgl', 'iclmlg', 'iclgml', 'iclglm', 'icllmg', 'icllgm', 'imcgll', 'imcgll', 'imclgl', 'imcllg', 'imclgl', 'imcllg', 'imgcll', 'imgcll', 'imglcl', 'imgllc', 'imglcl', 'imgllc', 'imlcgl', 'imlclg', 'imlgcl', 'imlglc', 'imllcg', 'imllgc', 'imlcgl', 'imlclg', 'imlgcl', 'imlglc', 'imllcg', 'imllgc', 'igcmll', 'igcmll', 'igclml', 'igcllm', 'igclml', 'igcllm', 'igmcll', 'igmcll', 'igmlcl', 'igmllc', 'igmlcl', 'igmllc', 'iglcml', 'iglclm', 'iglmcl', 'iglmlc', 'igllcm', 'igllmc', 'iglcml', 'iglclm', 'iglmcl', 'iglmlc', 'igllcm', 'igllmc', 'ilcmgl', 'ilcmlg', 'ilcgml', 'ilcglm', 'ilclmg', 'ilclgm', 'ilmcgl', 'ilmclg', 'ilmgcl', 'ilmglc', 'ilmlcg', 'ilmlgc', 'ilgcml', 'ilgclm', 'ilgmcl', 'ilgmlc', 'ilglcm', 'ilglmc', 'illcmg', 'illcgm', 'illmcg', 'illmgc', 'illgcm', 'illgmc', 'ilcmgl', 'ilcmlg', 'ilcgml', 'ilcglm', 'ilclmg', 'ilclgm', 'ilmcgl', 'ilmclg', 'ilmgcl', 'ilmglc', 'ilmlcg', 'ilmlgc', 'ilgcml', 'ilgclm', 'ilgmcl', 'ilgmlc', 'ilglcm', 'ilglmc', 'illcmg', 'illcgm', 'illmcg', 'illmgc', 'illgcm', 'illgmc', 'lcmgli', 'lcmgil', 'lcmlgi', 'lcmlig', 'lcmigl', 'lcmilg', 'lcgmli', 'lcgmil', 'lcglmi', 'lcglim', 'lcgiml', 'lcgilm', 'lclmgi', 'lclmig', 'lclgmi', 'lclgim', 'lclimg', 'lcligm', 'lcimgl', 'lcimlg', 'lcigml', 'lciglm', 'lcilmg', 'lcilgm', 'lmcgli', 'lmcgil', 'lmclgi', 'lmclig', 'lmcigl', 'lmcilg', 'lmgcli', 'lmgcil', 'lmglci', 'lmglic', 'lmgicl', 'lmgilc', 'lmlcgi', 'lmlcig', 'lmlgci', 'lmlgic', 'lmlicg', 'lmligc', 'lmicgl', 'lmiclg', 'lmigcl', 'lmiglc', 'lmilcg', 'lmilgc', 'lgcmli', 'lgcmil', 'lgclmi', 'lgclim', 'lgciml', 'lgcilm', 'lgmcli', 'lgmcil', 'lgmlci', 'lgmlic', 'lgmicl', 'lgmilc', 'lglcmi', 'lglcim', 'lglmci', 'lglmic', 'lglicm', 'lglimc', 'lgicml', 'lgiclm', 'lgimcl', 'lgimlc', 'lgilcm', 'lgilmc', 'llcmgi', 'llcmig', 'llcgmi', 'llcgim', 'llcimg', 'llcigm', 'llmcgi', 'llmcig', 'llmgci', 'llmgic', 'llmicg', 'llmigc', 'llgcmi', 'llgcim', 'llgmci', 'llgmic', 'llgicm', 'llgimc', 'llicmg', 'llicgm', 'llimcg', 'llimgc', 'lligcm', 'lligmc', 'licmgl', 'licmlg', 'licgml', 'licglm', 'liclmg', 'liclgm', 'limcgl', 'limclg', 'limgcl', 'limglc', 'limlcg', 'limlgc', 'ligcml', 'ligclm', 'ligmcl', 'ligmlc', 'liglcm', 'liglmc', 'lilcmg', 'lilcgm', 'lilmcg', 'lilmgc', 'lilgcm', 'lilgmc']\n",
      "['lhla', 'lhal', 'llha', 'llah', 'lahl', 'lalh', 'hlla', 'hlal', 'hlla', 'hlal', 'hall', 'hall', 'llha', 'llah', 'lhla', 'lhal', 'lalh', 'lahl', 'alhl', 'allh', 'ahll', 'ahll', 'allh', 'alhl']\n",
      "john office mcgill hall\n"
     ]
    }
   ],
   "source": [
    "# a\n",
    "clue1 = 'nohj'\n",
    "perm_clue1 = permute_str(clue1)\n",
    "print(perm_clue1)\n",
    "clue2 =  'ioceff' \n",
    "perm_clue2 = permute_str(clue2)\n",
    "print(perm_clue2)\n",
    "clue3 = 'cmglil' \n",
    "perm_clue3 = permute_str(clue3)\n",
    "print(perm_clue3)\n",
    "clue4 = 'lhla'\n",
    "perm_clue4 = permute_str(clue4)\n",
    "print(perm_clue4)\n",
    "# b \n",
    "print('john office mcgill hall')"
   ]
  },
  {
   "cell_type": "code",
   "execution_count": 4,
   "metadata": {},
   "outputs": [
    {
     "name": "stdout",
     "output_type": "stream",
     "text": [
      "Collecting pyspellchecker\n",
      "  Downloading pyspellchecker-0.6.2-py3-none-any.whl (2.7 MB)\n",
      "\u001b[K     |████████████████████████████████| 2.7 MB 415 kB/s eta 0:00:01\n",
      "\u001b[?25hInstalling collected packages: pyspellchecker\n",
      "Successfully installed pyspellchecker-0.6.2\n",
      "Note: you may need to restart the kernel to use updated packages.\n"
     ]
    }
   ],
   "source": [
    "pip install pyspellchecker"
   ]
  },
  {
   "cell_type": "code",
   "execution_count": 9,
   "metadata": {},
   "outputs": [],
   "source": [
    "from spellchecker import SpellChecker"
   ]
  },
  {
   "cell_type": "code",
   "execution_count": 12,
   "metadata": {},
   "outputs": [
    {
     "name": "stdout",
     "output_type": "stream",
     "text": [
      "<class 'list'>\n"
     ]
    }
   ],
   "source": [
    "print(type(perm_clue1))\n",
    "lst = ['nohj', 'iocef', 'cmglil', 'lhla']\n",
    "print(lst)\n",
    "for s in lst:\n",
    "    temp = permute_str(s)\n",
    "    spell.known(temp)"
   ]
  },
  {
   "cell_type": "code",
   "execution_count": 23,
   "metadata": {},
   "outputs": [
    {
     "data": {
      "text/plain": [
       "{'john'}"
      ]
     },
     "execution_count": 23,
     "metadata": {},
     "output_type": "execute_result"
    }
   ],
   "source": [
    "spell = SpellChecker()\n",
    "spell.known(perm_clue1)"
   ]
  },
  {
   "cell_type": "code",
   "execution_count": null,
   "metadata": {},
   "outputs": [],
   "source": []
  }
 ],
 "metadata": {
  "kernelspec": {
   "display_name": "Python 3",
   "language": "python",
   "name": "python3"
  },
  "language_info": {
   "codemirror_mode": {
    "name": "ipython",
    "version": 3
   },
   "file_extension": ".py",
   "mimetype": "text/x-python",
   "name": "python",
   "nbconvert_exporter": "python",
   "pygments_lexer": "ipython3",
   "version": "3.8.3"
  }
 },
 "nbformat": 4,
 "nbformat_minor": 2
}
