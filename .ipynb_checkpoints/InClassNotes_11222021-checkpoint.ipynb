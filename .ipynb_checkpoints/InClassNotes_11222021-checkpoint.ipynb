{
 "cells": [
  {
   "cell_type": "markdown",
   "metadata": {},
   "source": [
    "# information theory"
   ]
  },
  {
   "cell_type": "code",
   "execution_count": 26,
   "metadata": {},
   "outputs": [],
   "source": [
    "import numpy as np\n",
    "import matplotlib.pyplot as plt"
   ]
  },
  {
   "cell_type": "code",
   "execution_count": 2,
   "metadata": {},
   "outputs": [
    {
     "data": {
      "text/plain": [
       "2.0"
      ]
     },
     "execution_count": 2,
     "metadata": {},
     "output_type": "execute_result"
    }
   ],
   "source": [
    "# entropy - uncertainty.... how much can you learn from measuring \n",
    "\n",
    "np.log2(4) # 2**x = N, x == 1\n"
   ]
  },
  {
   "cell_type": "code",
   "execution_count": 4,
   "metadata": {},
   "outputs": [
    {
     "data": {
      "text/plain": [
       "4.0"
      ]
     },
     "execution_count": 4,
     "metadata": {},
     "output_type": "execute_result"
    }
   ],
   "source": [
    "n = 16 # 16 possible outcomes \n",
    "p = 1/n\n",
    "\n",
    "-np.log2(p) # log2(1) - log2(n)"
   ]
  },
  {
   "cell_type": "code",
   "execution_count": 5,
   "metadata": {},
   "outputs": [
    {
     "name": "stdout",
     "output_type": "stream",
     "text": [
      "4.0\n"
     ]
    }
   ],
   "source": [
    "n = 16\n",
    "\n",
    "H = 0\n",
    "for i in np.arange(n):\n",
    "    H += -((1/n) * np.log2(1/n)) # normalizing for non-uniform distribution\n",
    "print(H)\n"
   ]
  },
  {
   "cell_type": "code",
   "execution_count": 6,
   "metadata": {},
   "outputs": [
    {
     "data": {
      "image/png": "[encoded data removed]",
      "text/plain": [
       "<Figure size 432x288 with 1 Axes>"
      ]
     },
     "metadata": {
      "needs_background": "light"
     },
     "output_type": "display_data"
    },
    {
     "name": "stdout",
     "output_type": "stream",
     "text": [
      "3.8279550259738846\n"
     ]
    }
   ],
   "source": [
    "np.random.seed(0)\n",
    "\n",
    "n = 16\n",
    "\n",
    "px = np.random.rand(n)\n",
    "px /= np.sum(px)\n",
    "\n",
    "# numpy way...\n",
    "# equivalent of what was in the for loop\n",
    "H = -np.sum(px * np.log2(px))\n",
    "\n",
    "plt.plot(px)\n",
    "plt.show()\n",
    "\n",
    "print(H)\n",
    "# entropy lower than 4 because moving away from 1/16\n",
    "# less uncertainty in the data"
   ]
  },
  {
   "cell_type": "code",
   "execution_count": 13,
   "metadata": {},
   "outputs": [
    {
     "name": "stdout",
     "output_type": "stream",
     "text": [
      "[0.483 0.517]\n",
      "0.9991659615315873\n",
      "0.8149294036605923\n"
     ]
    }
   ],
   "source": [
    "# generating some data that we can change the dependence \n",
    "np.random.seed(0)\n",
    "\n",
    "N = 1000 \n",
    "\n",
    "x = np.round(np.random.rand(N))\n",
    "y = np.round(np.random.rand(N))\n",
    "\n",
    "# introduce some dependence \n",
    "p = .95 # proportion of shared data/overlap\n",
    "idx = int(p*N) # 95% of x and y to be identical \n",
    "\n",
    "y[:idx] = x[:idx]\n",
    "\n",
    "# now figure out px - each poss outcome\n",
    "px = np.zeros(2)\n",
    "px[0] = np.sum(x) / N # probability of heads  \n",
    "px[1] = 1 - px[0] # probability of tails\n",
    "print(px)\n",
    "Hx = -np.sum(px*np.log2(px))\n",
    "print(Hx)\n",
    "Hxy=0\n",
    "# possible values of y\n",
    "for i in np.arange(2):\n",
    "    py = np.sum(y==i) / N\n",
    "    tmp = 0\n",
    "    for j in np.arange(2):\n",
    "        px_y = np.sum((x==j)&(y==i))/np.sum(y==i)\n",
    "        tmp += -(px_y * np.log2(px_y))\n",
    "    Hxy += (py * tmp)\n",
    "MI = Hx - Hxy\n",
    "print(MI)"
   ]
  },
  {
   "cell_type": "code",
   "execution_count": 18,
   "metadata": {},
   "outputs": [
    {
     "name": "stdout",
     "output_type": "stream",
     "text": [
      "0.8149294036605925\n"
     ]
    }
   ],
   "source": [
    "from sklearn.metrics import mutual_info_score\n",
    "\n",
    "MI = mutual_info_score(x,y) * np.log2(np.e)\n",
    "\n",
    "print(MI)"
   ]
  },
  {
   "cell_type": "code",
   "execution_count": 41,
   "metadata": {},
   "outputs": [
    {
     "data": {
      "image/png": "[encoded data removed]",
      "text/plain": [
       "<Figure size 432x288 with 1 Axes>"
      ]
     },
     "metadata": {
      "needs_background": "light"
     },
     "output_type": "display_data"
    }
   ],
   "source": [
    "np.random.seed(0)\n",
    "\n",
    "N = 10000\n",
    "\n",
    "num_conds = 4\n",
    "conds = np.repeat(np.arange(4), N/num_conds)\n",
    "\n",
    "# some continuous data\n",
    "cond_means = [0, 1, 2, 3]\n",
    "cond_stds = [.2, .2, .2, .2]\n",
    "\n",
    "resp = []\n",
    "for i in np.arange(num_conds):\n",
    "    resp = np.hstack((resp, ((np.random.randn(int(N/num_conds)) * cond_stds[i]) + cond_means[i]))) # horizontal concatnation \n",
    "\n",
    "\n",
    "plt.plot(resp)\n",
    "plt.show()\n"
   ]
  },
  {
   "cell_type": "code",
   "execution_count": 42,
   "metadata": {},
   "outputs": [
    {
     "name": "stdout",
     "output_type": "stream",
     "text": [
      "[5 4 4 6 5 3 4 3 3 4]\n",
      "[ 0.35281047  0.08003144  0.1957476   0.44817864  0.3735116  -0.19545558\n",
      "  0.19001768 -0.03027144 -0.02064377  0.0821197 ]\n",
      "1.952526251971003\n"
     ]
    }
   ],
   "source": [
    "# take the continuous data and chop into 20 bins/turn it into discrete var\n",
    "nbins = 20\n",
    "b, edges = np.histogram(resp, bins = nbins)\n",
    "bin_y = np.digitize(resp, edges)\n",
    "\n",
    "print(bin_y[:10])\n",
    "print(resp[:10])\n",
    "\n",
    "MI = mutual_info_score(conds, bin_y) * np.log2(np.e)\n",
    "print(MI)"
   ]
  },
  {
   "cell_type": "code",
   "execution_count": null,
   "metadata": {},
   "outputs": [],
   "source": []
  }
 ],
 "metadata": {
  "kernelspec": {
   "display_name": "Python 3",
   "language": "python",
   "name": "python3"
  },
  "language_info": {
   "codemirror_mode": {
    "name": "ipython",
    "version": 3
   },
   "file_extension": ".py",
   "mimetype": "text/x-python",
   "name": "python",
   "nbconvert_exporter": "python",
   "pygments_lexer": "ipython3",
   "version": "3.8.3"
  }
 },
 "nbformat": 4,
 "nbformat_minor": 4
}
